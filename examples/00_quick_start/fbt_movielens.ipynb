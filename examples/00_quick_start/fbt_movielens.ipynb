{
 "cells": [
  {
   "cell_type": "markdown",
   "metadata": {},
   "source": [
    "<i>Copyright (c) Microsoft Corporation. All rights reserved.</i>\n",
    "\n",
    "<i>Licensed under the MIT License.</i>"
   ]
  },
  {
   "cell_type": "markdown",
   "metadata": {},
   "source": [
    "# FBT Single Node on MovieLens (Python, CPU)\n",
    "\n",
    "FBT (Frequently Bought together) recommender can be thought of as a even simpler restriction of the SAR (Simple Algorithm for Recommendation). Like SAR, FBT is a fast and scalable algorithm for personalized recommendations based on user transaction history. SAR leverages user ratings of items and timestamp information of when user rated an item to produce easily explainable and interpretable recommendations. But there are many scenarios where we may not have reliable rating information or timestamps. All we have is user interactions with items and we need a simple recommendation engine that can leverage this interaction information without regard to context or quality of interaction or when in history did this interaction happen.\n",
    "\n",
    "This is where we can leverage FBT. Like SAR, FBT recommends items that are most ***similar*** to the ones that the user already has an existing ***affinity*** for. Two items are ***similar*** if the users that interacted with one item are also likely to have interacted with the other. Unlike SAR though, user ***affinity*** to an item is simply binary - 1 if the user has interacted with an item in the past, 0 otherwise.\n",
    "\n",
    "### Advantages of FBT:\n",
    "- A simple first algorithm to implement when all you have is users and items and no more information. Covers a broad range of customer scenarios.\n",
    "- High accuracy for an easy to train and deploy algorithm\n",
    "- Fast training and scoring, only requiring simple counting to construct matrices used at prediction time.\n",
    "\n",
    "### Notes to use FBT properly:\n",
    "- Since FBT uses very little information, recommendations will likely not have more context than historical interactions. If we can leverage useful information from item or user features, more sohisticated algorithms will have an edge in performance.\n",
    "\n",
    "- It's memory-hungry, requiring the creation of an $mxm$ sparse square matrix (where $m$ is the number of items). This can also be a problem for many matrix factorization algorithms.\n",
    "- FBT does not need ratings information, hence we can't predict ratings either. Evaluation can best happen with user studies. We can still look at offline evaluation methods like Precision@K, Recall@K.\n",
    "\n",
    "This notebook provides an example of how to utilize and evaluate FBT in Python on a CPU."
   ]
  },
  {
   "cell_type": "markdown",
   "metadata": {},
   "source": [
    "# 0 Global Settings and Imports"
   ]
  },
  {
   "cell_type": "code",
   "execution_count": 13,
   "metadata": {},
   "outputs": [
    {
     "output_type": "stream",
     "name": "stdout",
     "text": [
      "The autoreload extension is already loaded. To reload it, use:\n  %reload_ext autoreload\nSystem version: 3.6.11 | packaged by conda-forge | (default, Nov 27 2020, 18:51:43) \n[GCC Clang 11.0.0]\nPandas version: 1.1.5\n"
     ]
    }
   ],
   "source": [
    "%load_ext autoreload\n",
    "%autoreload 2\n",
    "\n",
    "# set the environment path to find Recommenders\n",
    "import sys\n",
    "sys.path.append(\"../../\")\n",
    "\n",
    "import logging\n",
    "import numpy as np\n",
    "import pandas as pd\n",
    "import scrapbook as sb\n",
    "from sklearn.preprocessing import minmax_scale\n",
    "\n",
    "from reco_utils.common.python_utils import binarize\n",
    "from reco_utils.common.timer import Timer\n",
    "from reco_utils.dataset import movielens\n",
    "from reco_utils.dataset.python_splitters import python_stratified_split\n",
    "from reco_utils.evaluation.python_evaluation import (\n",
    "    map_at_k,\n",
    "    ndcg_at_k,\n",
    "    precision_at_k,\n",
    "    recall_at_k,\n",
    "    rmse,\n",
    "    mae,\n",
    "    logloss,\n",
    "    rsquared,\n",
    "    exp_var,\n",
    "    get_top_k_items\n",
    ")\n",
    "from reco_utils.recommender.fbt.fbt import FBT\n",
    "\n",
    "print(\"System version: {}\".format(sys.version))\n",
    "print(\"Pandas version: {}\".format(pd.__version__))"
   ]
  },
  {
   "cell_type": "markdown",
   "metadata": {},
   "source": [
    "# 1 Load Data\n",
    "\n",
    "FBT is intended to be used on a very simple schema: `<User ID>, <Item ID>.` Each row represents a single interaction between a user and an item. These interactions might be different types of events on an e-commerce website, such as a user clicking to view an item, adding it to a shopping basket, following a recommendation link, and so on. \n",
    "\n",
    "The MovieLens dataset is well formatted interactions of Users providing Ratings to Movies (movie ratings are used as the event weight). We will swap out the movielens ratings information with a dummy rating of 1.0 (if user interacted with an item) in order to leverage SAR signature and to showcase simple FBT with only users and items. "
   ]
  },
  {
   "cell_type": "code",
   "execution_count": 14,
   "metadata": {
    "tags": [
     "parameters"
    ]
   },
   "outputs": [],
   "source": [
    "# top k items to recommend\n",
    "TOP_K = 10\n",
    "\n",
    "# Select MovieLens data size: 100k, 1m, 10m, or 20m\n",
    "MOVIELENS_DATA_SIZE = '100k'"
   ]
  },
  {
   "cell_type": "markdown",
   "metadata": {},
   "source": [
    "### 1.1 Download and use the MovieLens Dataset"
   ]
  },
  {
   "cell_type": "code",
   "execution_count": 15,
   "metadata": {},
   "outputs": [
    {
     "output_type": "stream",
     "name": "stderr",
     "text": [
      "2021-05-06 22:41:26,844 DEBUG    Starting new HTTP connection (1): files.grouplens.org:80\n",
      "2021-05-06 22:41:27,060 DEBUG    http://files.grouplens.org:80 \"GET /datasets/movielens/ml-100k.zip HTTP/1.1\" 200 4924029\n",
      "100%|██████████| 4.81k/4.81k [00:01<00:00, 3.27kKB/s]\n"
     ]
    },
    {
     "output_type": "execute_result",
     "data": {
      "text/plain": [
       "   UserID  ItemID         Title  rating\n",
       "0     196     242  Kolya (1996)       1\n",
       "1      63     242  Kolya (1996)       1\n",
       "2     226     242  Kolya (1996)       1\n",
       "3     154     242  Kolya (1996)       1\n",
       "4     306     242  Kolya (1996)       1"
      ],
      "text/html": "<div>\n<style scoped>\n    .dataframe tbody tr th:only-of-type {\n        vertical-align: middle;\n    }\n\n    .dataframe tbody tr th {\n        vertical-align: top;\n    }\n\n    .dataframe thead th {\n        text-align: right;\n    }\n</style>\n<table border=\"1\" class=\"dataframe\">\n  <thead>\n    <tr style=\"text-align: right;\">\n      <th></th>\n      <th>UserID</th>\n      <th>ItemID</th>\n      <th>Title</th>\n      <th>rating</th>\n    </tr>\n  </thead>\n  <tbody>\n    <tr>\n      <th>0</th>\n      <td>196</td>\n      <td>242</td>\n      <td>Kolya (1996)</td>\n      <td>1</td>\n    </tr>\n    <tr>\n      <th>1</th>\n      <td>63</td>\n      <td>242</td>\n      <td>Kolya (1996)</td>\n      <td>1</td>\n    </tr>\n    <tr>\n      <th>2</th>\n      <td>226</td>\n      <td>242</td>\n      <td>Kolya (1996)</td>\n      <td>1</td>\n    </tr>\n    <tr>\n      <th>3</th>\n      <td>154</td>\n      <td>242</td>\n      <td>Kolya (1996)</td>\n      <td>1</td>\n    </tr>\n    <tr>\n      <th>4</th>\n      <td>306</td>\n      <td>242</td>\n      <td>Kolya (1996)</td>\n      <td>1</td>\n    </tr>\n  </tbody>\n</table>\n</div>"
     },
     "metadata": {},
     "execution_count": 15
    }
   ],
   "source": [
    "data = movielens.load_pandas_df(\n",
    "    size=MOVIELENS_DATA_SIZE,\n",
    "    header=('UserID', 'ItemID'),\n",
    "    title_col=\"Title\"\n",
    ")\n",
    "data['rating'] = 1\n",
    "data.head()"
   ]
  },
  {
   "cell_type": "markdown",
   "metadata": {},
   "source": [
    "### 1.2 Split the data using the python random splitter provided in utilities:\n",
    "\n",
    "We split the full dataset into a `train` and `test` dataset to evaluate performance of the algorithm against a held-out set not seen during training. Because FBT generates recommendations based on user preferences, all users that are in the test set must also exist in the training set. For this case, we can use the provided `python_stratified_split` function which holds out a percentage (in this case 25%) of items from each user, but ensures all users are in both `train` and `test` datasets. Other options are available in the `dataset.python_splitters` module which provide more control over how the split occurs."
   ]
  },
  {
   "cell_type": "code",
   "execution_count": 16,
   "metadata": {},
   "outputs": [],
   "source": [
    "train, test = python_stratified_split(data, ratio=0.75, col_user='UserID', col_item='ItemID', seed=42)"
   ]
  },
  {
   "cell_type": "code",
   "execution_count": 17,
   "metadata": {},
   "outputs": [
    {
     "output_type": "stream",
     "name": "stdout",
     "text": [
      "\nTrain:\nTotal Ratings: 74992\nUnique Users: 943\nUnique Items: 1601\n\nTest:\nTotal Ratings: 25008\nUnique Users: 943\nUnique Items: 1532\n\n"
     ]
    }
   ],
   "source": [
    "print(\"\"\"\n",
    "Train:\n",
    "Total Ratings: {train_total}\n",
    "Unique Users: {train_users}\n",
    "Unique Items: {train_items}\n",
    "\n",
    "Test:\n",
    "Total Ratings: {test_total}\n",
    "Unique Users: {test_users}\n",
    "Unique Items: {test_items}\n",
    "\"\"\".format(\n",
    "    train_total=len(train),\n",
    "    train_users=len(train['UserID'].unique()),\n",
    "    train_items=len(train['ItemID'].unique()),\n",
    "    test_total=len(test),\n",
    "    test_users=len(test['UserID'].unique()),\n",
    "    test_items=len(test['ItemID'].unique()),\n",
    "))"
   ]
  },
  {
   "cell_type": "markdown",
   "metadata": {},
   "source": [
    "# 2 Train the FBT Model"
   ]
  },
  {
   "cell_type": "markdown",
   "metadata": {},
   "source": [
    "### 2.1 Instantiate the SAR algorithm and set the index\n",
    "\n",
    "We will leverage the single node implementation of SAR and specify the column names to match our dataset. Since we don't need timestamps, we will not use it and turn off timestamp related flags. (`timedecay_formula = False`) We will also switch `normalize = False` which is associated to renormalizing ratings predictions obtained form user affinity computation to an appropriate scale.\n",
    "\n",
    "Other options are specified to control the behavior of the algorithm as described in the [deep dive notebook](../02_model_collaborative_filtering/sar_deep_dive.ipynb)."
   ]
  },
  {
   "cell_type": "code",
   "execution_count": 18,
   "metadata": {},
   "outputs": [],
   "source": [
    "logging.basicConfig(level=logging.DEBUG, \n",
    "                    format='%(asctime)s %(levelname)-8s %(message)s')\n",
    "\n",
    "model = FBT(\n",
    "    col_user=\"UserID\",\n",
    "    col_item=\"ItemID\",\n",
    "    col_prediction=\"score\",\n",
    "    col_rating=\"rating\"\n",
    ")"
   ]
  },
  {
   "cell_type": "markdown",
   "metadata": {},
   "source": [
    "### 2.2 Train the FBT model on our training data, and get the top-k recommendations for our testing data\n",
    "\n",
    "To train (fit) a model, FBT computes an item-to-item ***co-occurence matrix***. Co-occurence represents the number of times two items appear together for any given user. With SAR, we have the option to rescale the co-occurence matrix to an ***item similarity matrix*** by a given metric (Jaccard similarity for example). We will not do this with our vanilla FBT example. \n",
    "\n",
    "SAR also computes an ***affinity matrix*** to capture the strength of the relationship between each user and each item. Affinity is driven by different types (like *rating* or *viewing* a movie). Since for our example, any interaction is Boolean, the affinity matrix is identity.\n",
    "\n",
    "Recommendations are achieved by computing a cooccurrence score per user and course and filtering the ***top-k*** results for each user in the `recommend_k_items` function seen below."
   ]
  },
  {
   "cell_type": "code",
   "execution_count": 19,
   "metadata": {},
   "outputs": [
    {
     "output_type": "stream",
     "name": "stderr",
     "text": [
      "2021-05-06 22:41:35,000 INFO     De-duplicating the user-item counts\n",
      "2021-05-06 22:41:35,007 INFO     Check dataframe is of the type, schema we expect\n",
      "../../reco_utils/recommender/fbt/fbt.py:193: SettingWithCopyWarning: \n",
      "A value is trying to be set on a copy of a slice from a DataFrame.\n",
      "Try using .loc[row_indexer,col_indexer] = value instead\n",
      "\n",
      "See the caveats in the documentation: https://pandas.pydata.org/pandas-docs/stable/user_guide/indexing.html#returning-a-view-versus-a-copy\n",
      "  .rank('dense', ascending=False)\n",
      "2021-05-06 22:41:37,374 INFO     Done training\n",
      "Took 2.3939198610023595 seconds for training.\n"
     ]
    }
   ],
   "source": [
    "with Timer() as train_time:\n",
    "    model.fit(train)\n",
    "\n",
    "print(\"Took {} seconds for training.\".format(train_time.interval))"
   ]
  },
  {
   "cell_type": "code",
   "execution_count": 43,
   "metadata": {},
   "outputs": [
    {
     "output_type": "stream",
     "name": "stderr",
     "text": [
      "2021-05-06 22:55:03,694 INFO     Calculating recommendation scores\n",
      "Took 4.739804231001472 seconds for prediction.\n"
     ]
    }
   ],
   "source": [
    "with Timer() as test_time:\n",
    "    preds = model.recommend_k_items(test, top_k=20, remove_seen=False)\n",
    "\n",
    "print(\"Took {} seconds for prediction.\".format(test_time.interval))"
   ]
  },
  {
   "cell_type": "code",
   "execution_count": 44,
   "metadata": {},
   "outputs": [
    {
     "output_type": "execute_result",
     "data": {
      "text/plain": [
       "    UserID  ItemID      score  rank\n",
       "0        1       1  56.985294     4\n",
       "6        1       7  45.264706    20\n",
       "49       1      50  66.735294     1\n",
       "55       1      56  50.283582    11\n",
       "68       1      69  47.925373    14"
      ],
      "text/html": "<div>\n<style scoped>\n    .dataframe tbody tr th:only-of-type {\n        vertical-align: middle;\n    }\n\n    .dataframe tbody tr th {\n        vertical-align: top;\n    }\n\n    .dataframe thead th {\n        text-align: right;\n    }\n</style>\n<table border=\"1\" class=\"dataframe\">\n  <thead>\n    <tr style=\"text-align: right;\">\n      <th></th>\n      <th>UserID</th>\n      <th>ItemID</th>\n      <th>score</th>\n      <th>rank</th>\n    </tr>\n  </thead>\n  <tbody>\n    <tr>\n      <th>0</th>\n      <td>1</td>\n      <td>1</td>\n      <td>56.985294</td>\n      <td>4</td>\n    </tr>\n    <tr>\n      <th>6</th>\n      <td>1</td>\n      <td>7</td>\n      <td>45.264706</td>\n      <td>20</td>\n    </tr>\n    <tr>\n      <th>49</th>\n      <td>1</td>\n      <td>50</td>\n      <td>66.735294</td>\n      <td>1</td>\n    </tr>\n    <tr>\n      <th>55</th>\n      <td>1</td>\n      <td>56</td>\n      <td>50.283582</td>\n      <td>11</td>\n    </tr>\n    <tr>\n      <th>68</th>\n      <td>1</td>\n      <td>69</td>\n      <td>47.925373</td>\n      <td>14</td>\n    </tr>\n  </tbody>\n</table>\n</div>"
     },
     "metadata": {},
     "execution_count": 44
    }
   ],
   "source": [
    "preds.head()"
   ]
  },
  {
   "cell_type": "code",
   "execution_count": 45,
   "metadata": {},
   "outputs": [
    {
     "output_type": "display_data",
     "data": {
      "text/plain": "       UserID  ItemID      score  rank  \\\n2226      943      50  81.170732     1   \n9583      943     174  73.731707     2   \n10526     943     181  72.785714     3   \n11606     943     210  70.097561     4   \n4962      943      98  69.512195     5   \n939       943       1  69.341463     6   \n8330      943     172  68.926829     7   \n6745      943     121  66.073171     8   \n4119      943      79  65.560976     9   \n12484     943     222  64.414634    10   \n\n                          Item_title_recommended  \n2226                            Star Wars (1977)  \n9583              Raiders of the Lost Ark (1981)  \n10526                  Return of the Jedi (1983)  \n11606  Indiana Jones and the Last Crusade (1989)  \n4962            Silence of the Lambs, The (1991)  \n939                             Toy Story (1995)  \n8330             Empire Strikes Back, The (1980)  \n6745               Independence Day (ID4) (1996)  \n4119                        Fugitive, The (1993)  \n12484            Star Trek: First Contact (1996)  ",
      "text/html": "<div>\n<style scoped>\n    .dataframe tbody tr th:only-of-type {\n        vertical-align: middle;\n    }\n\n    .dataframe tbody tr th {\n        vertical-align: top;\n    }\n\n    .dataframe thead th {\n        text-align: right;\n    }\n</style>\n<table border=\"1\" class=\"dataframe\">\n  <thead>\n    <tr style=\"text-align: right;\">\n      <th></th>\n      <th>UserID</th>\n      <th>ItemID</th>\n      <th>score</th>\n      <th>rank</th>\n      <th>Item_title_recommended</th>\n    </tr>\n  </thead>\n  <tbody>\n    <tr>\n      <th>2226</th>\n      <td>943</td>\n      <td>50</td>\n      <td>81.170732</td>\n      <td>1</td>\n      <td>Star Wars (1977)</td>\n    </tr>\n    <tr>\n      <th>9583</th>\n      <td>943</td>\n      <td>174</td>\n      <td>73.731707</td>\n      <td>2</td>\n      <td>Raiders of the Lost Ark (1981)</td>\n    </tr>\n    <tr>\n      <th>10526</th>\n      <td>943</td>\n      <td>181</td>\n      <td>72.785714</td>\n      <td>3</td>\n      <td>Return of the Jedi (1983)</td>\n    </tr>\n    <tr>\n      <th>11606</th>\n      <td>943</td>\n      <td>210</td>\n      <td>70.097561</td>\n      <td>4</td>\n      <td>Indiana Jones and the Last Crusade (1989)</td>\n    </tr>\n    <tr>\n      <th>4962</th>\n      <td>943</td>\n      <td>98</td>\n      <td>69.512195</td>\n      <td>5</td>\n      <td>Silence of the Lambs, The (1991)</td>\n    </tr>\n    <tr>\n      <th>939</th>\n      <td>943</td>\n      <td>1</td>\n      <td>69.341463</td>\n      <td>6</td>\n      <td>Toy Story (1995)</td>\n    </tr>\n    <tr>\n      <th>8330</th>\n      <td>943</td>\n      <td>172</td>\n      <td>68.926829</td>\n      <td>7</td>\n      <td>Empire Strikes Back, The (1980)</td>\n    </tr>\n    <tr>\n      <th>6745</th>\n      <td>943</td>\n      <td>121</td>\n      <td>66.073171</td>\n      <td>8</td>\n      <td>Independence Day (ID4) (1996)</td>\n    </tr>\n    <tr>\n      <th>4119</th>\n      <td>943</td>\n      <td>79</td>\n      <td>65.560976</td>\n      <td>9</td>\n      <td>Fugitive, The (1993)</td>\n    </tr>\n    <tr>\n      <th>12484</th>\n      <td>943</td>\n      <td>222</td>\n      <td>64.414634</td>\n      <td>10</td>\n      <td>Star Trek: First Contact (1996)</td>\n    </tr>\n  </tbody>\n</table>\n</div>"
     },
     "metadata": {}
    }
   ],
   "source": [
    "preds_with_titles = (\n",
    "    preds.merge(data[['ItemID', 'Title']].drop_duplicates().set_index('ItemID'), \n",
    "               on='ItemID',\n",
    "               how='inner')\n",
    "         .sort_values(by=['UserID', 'score'], ascending=False)\n",
    "         .rename(columns={'Title': 'Item_title_recommended', 'ItemID_paired': 'ItemID_recommended'})\n",
    ")\n",
    "        \n",
    "display(preds_with_titles.head(10))"
   ]
  },
  {
   "cell_type": "markdown",
   "metadata": {},
   "source": [
    "### 2.3. Evaluate how well FBT performs\n",
    "\n",
    "We evaluate how well SAR performs for a few common ranking metrics provided in the `python_evaluation` module in reco_utils. We will consider the Mean Average Precision (MAP), Normalized Discounted Cumalative Gain (NDCG), Precision, and Recall for the top-k items per user we computed with SAR. User, item and rating column names are specified in each evaluation method."
   ]
  },
  {
   "cell_type": "code",
   "execution_count": 46,
   "metadata": {},
   "outputs": [
    {
     "output_type": "execute_result",
     "data": {
      "text/plain": [
       "       UserID  ItemID                              Title  rating\n",
       "60240       1      49                        I.Q. (1994)       1\n",
       "30162       1      69                Forrest Gump (1994)       1\n",
       "72658       1     221          Breaking the Waves (1996)       1\n",
       "11920       1       5                     Copycat (1995)       1\n",
       "85977       1     139               Love Bug, The (1969)       1\n",
       "...       ...     ...                                ...     ...\n",
       "43302     943     402                       Ghost (1990)       1\n",
       "59385     943     739                Pretty Woman (1990)       1\n",
       "10424     943     219  Nightmare on Elm Street, A (1984)       1\n",
       "53633     943     184            Army of Darkness (1993)       1\n",
       "57040     943      22                  Braveheart (1995)       1\n",
       "\n",
       "[25008 rows x 4 columns]"
      ],
      "text/html": "<div>\n<style scoped>\n    .dataframe tbody tr th:only-of-type {\n        vertical-align: middle;\n    }\n\n    .dataframe tbody tr th {\n        vertical-align: top;\n    }\n\n    .dataframe thead th {\n        text-align: right;\n    }\n</style>\n<table border=\"1\" class=\"dataframe\">\n  <thead>\n    <tr style=\"text-align: right;\">\n      <th></th>\n      <th>UserID</th>\n      <th>ItemID</th>\n      <th>Title</th>\n      <th>rating</th>\n    </tr>\n  </thead>\n  <tbody>\n    <tr>\n      <th>60240</th>\n      <td>1</td>\n      <td>49</td>\n      <td>I.Q. (1994)</td>\n      <td>1</td>\n    </tr>\n    <tr>\n      <th>30162</th>\n      <td>1</td>\n      <td>69</td>\n      <td>Forrest Gump (1994)</td>\n      <td>1</td>\n    </tr>\n    <tr>\n      <th>72658</th>\n      <td>1</td>\n      <td>221</td>\n      <td>Breaking the Waves (1996)</td>\n      <td>1</td>\n    </tr>\n    <tr>\n      <th>11920</th>\n      <td>1</td>\n      <td>5</td>\n      <td>Copycat (1995)</td>\n      <td>1</td>\n    </tr>\n    <tr>\n      <th>85977</th>\n      <td>1</td>\n      <td>139</td>\n      <td>Love Bug, The (1969)</td>\n      <td>1</td>\n    </tr>\n    <tr>\n      <th>...</th>\n      <td>...</td>\n      <td>...</td>\n      <td>...</td>\n      <td>...</td>\n    </tr>\n    <tr>\n      <th>43302</th>\n      <td>943</td>\n      <td>402</td>\n      <td>Ghost (1990)</td>\n      <td>1</td>\n    </tr>\n    <tr>\n      <th>59385</th>\n      <td>943</td>\n      <td>739</td>\n      <td>Pretty Woman (1990)</td>\n      <td>1</td>\n    </tr>\n    <tr>\n      <th>10424</th>\n      <td>943</td>\n      <td>219</td>\n      <td>Nightmare on Elm Street, A (1984)</td>\n      <td>1</td>\n    </tr>\n    <tr>\n      <th>53633</th>\n      <td>943</td>\n      <td>184</td>\n      <td>Army of Darkness (1993)</td>\n      <td>1</td>\n    </tr>\n    <tr>\n      <th>57040</th>\n      <td>943</td>\n      <td>22</td>\n      <td>Braveheart (1995)</td>\n      <td>1</td>\n    </tr>\n  </tbody>\n</table>\n<p>25008 rows × 4 columns</p>\n</div>"
     },
     "metadata": {},
     "execution_count": 46
    }
   ],
   "source": [
    "test"
   ]
  },
  {
   "cell_type": "code",
   "execution_count": 47,
   "metadata": {},
   "outputs": [
    {
     "output_type": "execute_result",
     "data": {
      "text/plain": [
       "       UserID  ItemID                              Title  rating\n",
       "60240       1      49                        I.Q. (1994)       1\n",
       "30162       1      69                Forrest Gump (1994)       1\n",
       "72658       1     221          Breaking the Waves (1996)       1\n",
       "11920       1       5                     Copycat (1995)       1\n",
       "85977       1     139               Love Bug, The (1969)       1\n",
       "...       ...     ...                                ...     ...\n",
       "43302     943     402                       Ghost (1990)       1\n",
       "59385     943     739                Pretty Woman (1990)       1\n",
       "10424     943     219  Nightmare on Elm Street, A (1984)       1\n",
       "53633     943     184            Army of Darkness (1993)       1\n",
       "57040     943      22                  Braveheart (1995)       1\n",
       "\n",
       "[25008 rows x 4 columns]"
      ],
      "text/html": "<div>\n<style scoped>\n    .dataframe tbody tr th:only-of-type {\n        vertical-align: middle;\n    }\n\n    .dataframe tbody tr th {\n        vertical-align: top;\n    }\n\n    .dataframe thead th {\n        text-align: right;\n    }\n</style>\n<table border=\"1\" class=\"dataframe\">\n  <thead>\n    <tr style=\"text-align: right;\">\n      <th></th>\n      <th>UserID</th>\n      <th>ItemID</th>\n      <th>Title</th>\n      <th>rating</th>\n    </tr>\n  </thead>\n  <tbody>\n    <tr>\n      <th>60240</th>\n      <td>1</td>\n      <td>49</td>\n      <td>I.Q. (1994)</td>\n      <td>1</td>\n    </tr>\n    <tr>\n      <th>30162</th>\n      <td>1</td>\n      <td>69</td>\n      <td>Forrest Gump (1994)</td>\n      <td>1</td>\n    </tr>\n    <tr>\n      <th>72658</th>\n      <td>1</td>\n      <td>221</td>\n      <td>Breaking the Waves (1996)</td>\n      <td>1</td>\n    </tr>\n    <tr>\n      <th>11920</th>\n      <td>1</td>\n      <td>5</td>\n      <td>Copycat (1995)</td>\n      <td>1</td>\n    </tr>\n    <tr>\n      <th>85977</th>\n      <td>1</td>\n      <td>139</td>\n      <td>Love Bug, The (1969)</td>\n      <td>1</td>\n    </tr>\n    <tr>\n      <th>...</th>\n      <td>...</td>\n      <td>...</td>\n      <td>...</td>\n      <td>...</td>\n    </tr>\n    <tr>\n      <th>43302</th>\n      <td>943</td>\n      <td>402</td>\n      <td>Ghost (1990)</td>\n      <td>1</td>\n    </tr>\n    <tr>\n      <th>59385</th>\n      <td>943</td>\n      <td>739</td>\n      <td>Pretty Woman (1990)</td>\n      <td>1</td>\n    </tr>\n    <tr>\n      <th>10424</th>\n      <td>943</td>\n      <td>219</td>\n      <td>Nightmare on Elm Street, A (1984)</td>\n      <td>1</td>\n    </tr>\n    <tr>\n      <th>53633</th>\n      <td>943</td>\n      <td>184</td>\n      <td>Army of Darkness (1993)</td>\n      <td>1</td>\n    </tr>\n    <tr>\n      <th>57040</th>\n      <td>943</td>\n      <td>22</td>\n      <td>Braveheart (1995)</td>\n      <td>1</td>\n    </tr>\n  </tbody>\n</table>\n<p>25008 rows × 4 columns</p>\n</div>"
     },
     "metadata": {},
     "execution_count": 47
    }
   ],
   "source": [
    "test"
   ]
  },
  {
   "cell_type": "code",
   "execution_count": 48,
   "metadata": {},
   "outputs": [
    {
     "output_type": "execute_result",
     "data": {
      "text/plain": [
       "         UserID  ItemID      score  rank\n",
       "0             1       1  56.985294     4\n",
       "6             1       7  45.264706    20\n",
       "49            1      50  66.735294     1\n",
       "55            1      56  50.283582    11\n",
       "68            1      69  47.925373    14\n",
       "...         ...     ...        ...   ...\n",
       "1487308     943     195  56.780488    20\n",
       "1487317     943     204  59.780488    15\n",
       "1487323     943     210  70.097561     4\n",
       "1487335     943     222  64.414634    10\n",
       "1487536     943     423  57.560976    19\n",
       "\n",
       "[19475 rows x 4 columns]"
      ],
      "text/html": "<div>\n<style scoped>\n    .dataframe tbody tr th:only-of-type {\n        vertical-align: middle;\n    }\n\n    .dataframe tbody tr th {\n        vertical-align: top;\n    }\n\n    .dataframe thead th {\n        text-align: right;\n    }\n</style>\n<table border=\"1\" class=\"dataframe\">\n  <thead>\n    <tr style=\"text-align: right;\">\n      <th></th>\n      <th>UserID</th>\n      <th>ItemID</th>\n      <th>score</th>\n      <th>rank</th>\n    </tr>\n  </thead>\n  <tbody>\n    <tr>\n      <th>0</th>\n      <td>1</td>\n      <td>1</td>\n      <td>56.985294</td>\n      <td>4</td>\n    </tr>\n    <tr>\n      <th>6</th>\n      <td>1</td>\n      <td>7</td>\n      <td>45.264706</td>\n      <td>20</td>\n    </tr>\n    <tr>\n      <th>49</th>\n      <td>1</td>\n      <td>50</td>\n      <td>66.735294</td>\n      <td>1</td>\n    </tr>\n    <tr>\n      <th>55</th>\n      <td>1</td>\n      <td>56</td>\n      <td>50.283582</td>\n      <td>11</td>\n    </tr>\n    <tr>\n      <th>68</th>\n      <td>1</td>\n      <td>69</td>\n      <td>47.925373</td>\n      <td>14</td>\n    </tr>\n    <tr>\n      <th>...</th>\n      <td>...</td>\n      <td>...</td>\n      <td>...</td>\n      <td>...</td>\n    </tr>\n    <tr>\n      <th>1487308</th>\n      <td>943</td>\n      <td>195</td>\n      <td>56.780488</td>\n      <td>20</td>\n    </tr>\n    <tr>\n      <th>1487317</th>\n      <td>943</td>\n      <td>204</td>\n      <td>59.780488</td>\n      <td>15</td>\n    </tr>\n    <tr>\n      <th>1487323</th>\n      <td>943</td>\n      <td>210</td>\n      <td>70.097561</td>\n      <td>4</td>\n    </tr>\n    <tr>\n      <th>1487335</th>\n      <td>943</td>\n      <td>222</td>\n      <td>64.414634</td>\n      <td>10</td>\n    </tr>\n    <tr>\n      <th>1487536</th>\n      <td>943</td>\n      <td>423</td>\n      <td>57.560976</td>\n      <td>19</td>\n    </tr>\n  </tbody>\n</table>\n<p>19475 rows × 4 columns</p>\n</div>"
     },
     "metadata": {},
     "execution_count": 48
    }
   ],
   "source": [
    "preds"
   ]
  },
  {
   "cell_type": "code",
   "execution_count": 49,
   "metadata": {},
   "outputs": [
    {
     "output_type": "execute_result",
     "data": {
      "text/plain": [
       "0.011704675310227435"
      ]
     },
     "metadata": {},
     "execution_count": 49
    }
   ],
   "source": [
    "eval_map_k = map_at_k(test, preds, col_user='UserID', col_item='ItemID', col_prediction='score',k=TOP_K)\n",
    "eval_map_k"
   ]
  },
  {
   "cell_type": "code",
   "execution_count": 50,
   "metadata": {},
   "outputs": [
    {
     "output_type": "execute_result",
     "data": {
      "text/plain": [
       "0.08749225059640534"
      ]
     },
     "metadata": {},
     "execution_count": 50
    }
   ],
   "source": [
    "eval_ndcg = ndcg_at_k(test, preds, col_user='UserID', col_item='ItemID', col_prediction='score', k=TOP_K)\n",
    "eval_ndcg"
   ]
  },
  {
   "cell_type": "code",
   "execution_count": 51,
   "metadata": {},
   "outputs": [
    {
     "output_type": "execute_result",
     "data": {
      "text/plain": [
       "0.09141039236479323"
      ]
     },
     "metadata": {},
     "execution_count": 51
    }
   ],
   "source": [
    "eval_precision = precision_at_k(test, preds, col_user='UserID', col_item='ItemID', col_prediction='score', k=TOP_K)\n",
    "eval_precision"
   ]
  },
  {
   "cell_type": "code",
   "execution_count": 52,
   "metadata": {},
   "outputs": [
    {
     "output_type": "execute_result",
     "data": {
      "text/plain": [
       "0.04438263793463333"
      ]
     },
     "metadata": {},
     "execution_count": 52
    }
   ],
   "source": [
    "eval_recall = recall_at_k(test, preds, col_user='UserID', col_item='ItemID', col_prediction='score', k=TOP_K)\n",
    "eval_recall"
   ]
  },
  {
   "cell_type": "code",
   "execution_count": 134,
   "metadata": {
    "pycharm": {
     "name": "#%%\n"
    }
   },
   "outputs": [
    {
     "output_type": "execute_result",
     "data": {
      "text/plain": [
       "78.67274761249735"
      ]
     },
     "metadata": {},
     "execution_count": 134
    }
   ],
   "source": [
    "eval_rmse = rmse(test_with_rating, top_k, col_user='UserID', col_item='ItemID', col_prediction='score')\n",
    "eval_rmse"
   ]
  },
  {
   "cell_type": "code",
   "execution_count": 135,
   "metadata": {
    "pycharm": {
     "name": "#%%\n"
    }
   },
   "outputs": [
    {
     "output_type": "execute_result",
     "data": {
      "text/plain": [
       "74.87890428926127"
      ]
     },
     "metadata": {},
     "execution_count": 135
    }
   ],
   "source": [
    "eval_mae = mae(test_with_rating, top_k, col_user='UserID', col_item='ItemID', col_prediction='score')\n",
    "eval_mae"
   ]
  },
  {
   "cell_type": "code",
   "execution_count": 136,
   "metadata": {
    "pycharm": {
     "name": "#%%\n"
    }
   },
   "outputs": [
    {
     "output_type": "stream",
     "name": "stdout",
     "text": [
      "Model:\t\nTop K:\t10\nMAP:\t0.010292\nNDCG:\t0.080831\nPrecision@K:\t0.089502\nRecall@K:\t0.038034\nRMSE:\t78.672748\nMAE:\t74.878904\n"
     ]
    }
   ],
   "source": [
    "print(\"Model:\\t\",\n",
    "      \"Top K:\\t%d\" % TOP_K,\n",
    "      \"MAP:\\t%f\" % eval_map_k,\n",
    "      \"NDCG:\\t%f\" % eval_ndcg,\n",
    "      \"Precision@K:\\t%f\" % eval_precision,\n",
    "      \"Recall@K:\\t%f\" % eval_recall,\n",
    "      \"RMSE:\\t%f\" % eval_rmse,\n",
    "      \"MAE:\\t%f\" % eval_mae,\n",
    "      sep='\\n')"
   ]
  },
  {
   "cell_type": "code",
   "execution_count": 65,
   "metadata": {
    "pycharm": {
     "name": "#%%\n"
    }
   },
   "outputs": [
    {
     "output_type": "stream",
     "name": "stderr",
     "text": [
      "2021-04-28 17:06:43,348 INFO     Calculating recommendation scores\n",
      "2021-04-28 17:06:43,369 INFO     Removing seen items\n"
     ]
    },
    {
     "output_type": "display_data",
     "data": {
      "text/plain": "   userID  itemID                           Title  prediction\n0     876     604    It Happened One Night (1934)         NaN\n1     876     187  Godfather: Part II, The (1974)         NaN\n2     876     523           Cool Hand Luke (1967)         NaN\n3     876     878           That Darn Cat! (1997)         NaN\n4     876     286     English Patient, The (1996)      1304.0",
      "text/html": "<div>\n<style scoped>\n    .dataframe tbody tr th:only-of-type {\n        vertical-align: middle;\n    }\n\n    .dataframe tbody tr th {\n        vertical-align: top;\n    }\n\n    .dataframe thead th {\n        text-align: right;\n    }\n</style>\n<table border=\"1\" class=\"dataframe\">\n  <thead>\n    <tr style=\"text-align: right;\">\n      <th></th>\n      <th>userID</th>\n      <th>itemID</th>\n      <th>Title</th>\n      <th>prediction</th>\n    </tr>\n  </thead>\n  <tbody>\n    <tr>\n      <th>0</th>\n      <td>876</td>\n      <td>604</td>\n      <td>It Happened One Night (1934)</td>\n      <td>NaN</td>\n    </tr>\n    <tr>\n      <th>1</th>\n      <td>876</td>\n      <td>187</td>\n      <td>Godfather: Part II, The (1974)</td>\n      <td>NaN</td>\n    </tr>\n    <tr>\n      <th>2</th>\n      <td>876</td>\n      <td>523</td>\n      <td>Cool Hand Luke (1967)</td>\n      <td>NaN</td>\n    </tr>\n    <tr>\n      <th>3</th>\n      <td>876</td>\n      <td>878</td>\n      <td>That Darn Cat! (1997)</td>\n      <td>NaN</td>\n    </tr>\n    <tr>\n      <th>4</th>\n      <td>876</td>\n      <td>286</td>\n      <td>English Patient, The (1996)</td>\n      <td>1304.0</td>\n    </tr>\n  </tbody>\n</table>\n</div>"
     },
     "metadata": {}
    }
   ],
   "source": [
    "# Now let's look at the results for a specific user\n",
    "user_id = 876\n",
    "\n",
    "ground_truth = test[test['UserID']==user_id].sort_values(by='score', ascending=False)[:TOP_K]\n",
    "prediction = model.recommend_k_items(pd.DataFrame(dict(userID=[user_id])), remove_seen=True) \n",
    "test_user_movie_watched_prediction = (\n",
    "    pd.merge(ground_truth, prediction, on=['userID', 'itemID'], how='left')\n",
    "      .drop(columns=['rating'])\n",
    ")\n",
    "display(test_user_movie_watched_prediction.head())"
   ]
  },
  {
   "cell_type": "markdown",
   "metadata": {},
   "source": [
    "Above, we see that one of the movies from the test set was recovered by the model's top-k recommendations, however the others were not. Offline evaluations are difficult as they can only use what was seen previously in the test set and may not represent the user's actual preferences across the entire set of items. Adjustments to how the data is split, algorithm is used and hyper-parameters can improve the results here. "
   ]
  },
  {
   "cell_type": "code",
   "execution_count": 47,
   "metadata": {
    "pycharm": {
     "name": "#%%\n"
    }
   },
   "outputs": [
    {
     "output_type": "display_data",
     "data": {
      "application/scrapbook.scrap.json+json": {
       "name": "map",
       "data": 0.0700594112753097,
       "encoder": "json",
       "version": 1
      }
     },
     "metadata": {
      "scrapbook": {
       "name": "map",
       "data": true,
       "display": false
      }
     }
    },
    {
     "output_type": "display_data",
     "data": {
      "application/scrapbook.scrap.json+json": {
       "name": "ndcg",
       "data": 0.30469469553920064,
       "encoder": "json",
       "version": 1
      }
     },
     "metadata": {
      "scrapbook": {
       "name": "ndcg",
       "data": true,
       "display": false
      }
     }
    },
    {
     "output_type": "display_data",
     "data": {
      "application/scrapbook.scrap.json+json": {
       "name": "precision",
       "data": 0.26521739130434785,
       "encoder": "json",
       "version": 1
      }
     },
     "metadata": {
      "scrapbook": {
       "name": "precision",
       "data": true,
       "display": false
      }
     }
    },
    {
     "output_type": "display_data",
     "data": {
      "application/scrapbook.scrap.json+json": {
       "name": "recall",
       "data": 0.1250000517480203,
       "encoder": "json",
       "version": 1
      }
     },
     "metadata": {
      "scrapbook": {
       "name": "recall",
       "data": true,
       "display": false
      }
     }
    },
    {
     "output_type": "display_data",
     "data": {
      "application/scrapbook.scrap.json+json": {
       "name": "train_time",
       "data": 0.2522684158757329,
       "encoder": "json",
       "version": 1
      }
     },
     "metadata": {
      "scrapbook": {
       "name": "train_time",
       "data": true,
       "display": false
      }
     }
    },
    {
     "output_type": "display_data",
     "data": {
      "application/scrapbook.scrap.json+json": {
       "name": "test_time",
       "data": 0.201675103046,
       "encoder": "json",
       "version": 1
      }
     },
     "metadata": {
      "scrapbook": {
       "name": "test_time",
       "data": true,
       "display": false
      }
     }
    }
   ],
   "source": [
    "# Record results with papermill for tests - ignore this cell\n",
    "sb.glue(\"map\", eval_map)\n",
    "sb.glue(\"ndcg\", eval_ndcg)\n",
    "sb.glue(\"precision\", eval_precision)\n",
    "sb.glue(\"recall\", eval_recall)\n",
    "sb.glue(\"train_time\", train_time.interval)\n",
    "sb.glue(\"test_time\", test_time.interval)"
   ]
  },
  {
   "cell_type": "code",
   "execution_count": null,
   "metadata": {},
   "outputs": [],
   "source": []
  }
 ],
 "metadata": {
  "celltoolbar": "Tags",
  "kernelspec": {
   "name": "python3611jvsc74a57bd098169291db0c76b5a29ac985497b93ea6e9ffb789b0c6c3e8a1bf753f6a69f0f",
   "display_name": "Python 3.6.11 64-bit ('reco_base': conda)"
  },
  "language_info": {
   "codemirror_mode": {
    "name": "ipython",
    "version": 3
   },
   "file_extension": ".py",
   "mimetype": "text/x-python",
   "name": "python",
   "nbconvert_exporter": "python",
   "pygments_lexer": "ipython3",
   "version": "3.6.11"
  }
 },
 "nbformat": 4,
 "nbformat_minor": 4
}