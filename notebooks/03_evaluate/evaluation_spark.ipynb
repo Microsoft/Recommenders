{
  "cells": [
    {
      "metadata": {},
      "cell_type": "markdown",
      "source": "# Evaluation"
    },
    {
      "metadata": {},
      "cell_type": "markdown",
      "source": "Evaluation with offline metrics is pivotal to assess the quality of a recommender before it goes into production. Usually, evaluation metrics are carefully chosen based on the actual application scenario of a recommendation system. It is hence important to data scientists and AI developers that build recommendation systems to understand how each evaluation metric is calculated and what it is for.\n\nThis notebook deep dives into several commonly used evaluation metrics, and illustrates how these metrics are used in practice. The metrics covered in this notebook are merely for off-line evaluations."
    },
    {
      "metadata": {},
      "cell_type": "markdown",
      "source": "## 0 Global settings"
    },
    {
      "metadata": {},
      "cell_type": "markdown",
      "source": "Most of the functions used in the notebook can be found in the `reco_utils` directory."
    },
    {
      "metadata": {
        "trusted": true
      },
      "cell_type": "code",
      "source": "# set the environment path to find Recommenders\nimport sys\nsys.path.append(\"../../\")\nimport pandas as pd\nimport pyspark\n\nfrom pyspark.ml.recommendation import ALS\n\nprint(\"System version: {}\".format(sys.version))\nprint(\"Pandas version: {}\".format(pd.__version__))\nprint(\"PySpark version: {}\".format(pyspark.__version__))",
      "execution_count": null,
      "outputs": []
    },
    {
      "metadata": {},
      "cell_type": "markdown",
      "source": "Note to successfully run Spark codes with the Jupyter kernel, one needs to correctly set the environment variables of `PYSPARK_PYTHON` and `PYSPARK_DRIVER_PYTHON` that point to Python executables with the desired version. Detailed information can be found in the setup instruction document [SETUP.md](../../SETUP.md)."
    },
    {
      "metadata": {
        "trusted": true
      },
      "cell_type": "code",
      "source": "COL_USER = \"UserId\"\nCOL_ITEM = \"MovieId\"\nCOL_RATING = \"Rating\"\nCOL_PREDICTION = \"prediction\"\n\nHEADER = {\n    \"col_user\": COL_USER,\n    \"col_item\": COL_ITEM,\n    \"col_rating\": COL_RATING,\n    \"col_prediction\": COL_PREDICTION,\n}",
      "execution_count": null,
      "outputs": []
    },
    {
      "metadata": {},
      "cell_type": "markdown",
      "source": "## 1 Prepare data"
    },
    {
      "metadata": {},
      "cell_type": "markdown",
      "source": "### 1.1 Prepare dummy data"
    },
    {
      "metadata": {},
      "cell_type": "markdown",
      "source": "For illustration purpose, a dummy data set is created for demonstrating how different evaluation metrics work. \n\nThe data has the schema that can be frequently found in a recommendation problem, that is, each row in the dataset is a (user, item, rating) tuple, where \"rating\" can be an ordinal rating score (e.g., discrete integers of 1, 2, 3, etc.) or an numerical float number that quantitatively indicates the preference of the user towards that item. \n\nFor simplicity reason, the column of rating in the dummy dataset we use in the example represent some ordinal ratings."
    },
    {
      "metadata": {
        "trusted": true
      },
      "cell_type": "code",
      "source": "df_true = pd.DataFrame(\n        {\n            COL_USER: [1, 1, 1, 2, 2, 2, 2, 2, 3, 3, 3, 3, 3, 3, 3, 3, 3, 3],\n            COL_ITEM: [1, 2, 3, 1, 4, 5, 6, 7, 2, 5, 6, 8, 9, 10, 11, 12, 13, 14],\n            COL_RATING: [5, 4, 3, 5, 5, 3, 3, 1, 5, 5, 5, 4, 4, 3, 3, 3, 2, 1],\n        }\n    )",
      "execution_count": null,
      "outputs": []
    },
    {
      "metadata": {},
      "cell_type": "markdown",
      "source": "Take a look at ratings of the user with ID \"1\" in the dummy dataset."
    },
    {
      "metadata": {
        "trusted": true
      },
      "cell_type": "code",
      "source": "df_true[df_true[COL_USER] == 1]",
      "execution_count": null,
      "outputs": []
    },
    {
      "metadata": {},
      "cell_type": "markdown",
      "source": "### 1.2 Prepare Spark data"
    },
    {
      "metadata": {},
      "cell_type": "markdown",
      "source": "Spark framework is sometimes used to evaluate metrics given datasets that are hard to fit into memory. In our example, Spark DataFrames can be created from the Python dummy dataset."
    },
    {
      "metadata": {
        "trusted": true
      },
      "cell_type": "code",
      "source": "import os\n\nSUBMIT_ARGS = \"--packages com.microsoft:mmlspark:0.15 pyspark-shell\"\nos.environ[\"PYSPARK_SUBMIT_ARGS\"] = SUBMIT_ARGS\n\nfrom pyspark.sql import SparkSession\n\nspark = (\n   SparkSession.builder.appName(\"Spark Evaluation Metrics\")\n   .master(\"local[*]\")\n   .config(\"memory\", \"1G\")\n   .getOrCreate()\n)",
      "execution_count": null,
      "outputs": []
    },
    {
      "metadata": {
        "trusted": true
      },
      "cell_type": "code",
      "source": "ratings = spark.createDataFrame(df_true)",
      "execution_count": null,
      "outputs": []
    },
    {
      "metadata": {
        "trusted": true
      },
      "cell_type": "code",
      "source": "ratings.filter(ratings[COL_USER] == 1).show()",
      "execution_count": null,
      "outputs": []
    },
    {
      "metadata": {
        "trusted": true
      },
      "cell_type": "code",
      "source": "(training, test) = ratings.randomSplit([0.5, 0.5])\n\n# Build the recommendation model using ALS on the training data\n# Note we set cold start strategy to 'drop' to ensure we don't get NaN evaluation metrics\nals = ALS(maxIter=5, regParam=0.01, userCol=COL_USER, itemCol=COL_ITEM, ratingCol=COL_RATING,\n          coldStartStrategy=\"drop\")\nmodel = als.fit(ratings)\npredictions = model.transform(ratings)",
      "execution_count": null,
      "outputs": []
    },
    {
      "metadata": {
        "trusted": true
      },
      "cell_type": "code",
      "source": "predictions.show()",
      "execution_count": null,
      "outputs": []
    },
    {
      "metadata": {},
      "cell_type": "markdown",
      "source": "## 2 Evaluation metrics"
    },
    {
      "metadata": {},
      "cell_type": "markdown",
      "source": "### 2.1 Rating metrics\n\nRating metrics are similar to regression metrics used for evaluating a regression model that predicts numerical values given input observations. In the context of recommendation system, rating metrics are to evaluate how accurate a recommender is to predict ratings that users may give to items. Therefore, the metrics are **calculated exactly on the same group of (user, item) pairs that exist in both ground-truth dataset and prediction dataset** and **averaged by the total number of users**.\n\n#### 2.1.1 Use cases\n\nRating metrics are effective in measuring the model accuracy. However, in some cases, the rating metrics are limited if\n* **the recommender is to predict ranking instead of explicit rating**. For example, if the consumer of the recommender cares about the ranked recommended items, rating metrics do not apply directly. Usually a relevancy function such as top-k will be applied to generate the ranked list from predicted ratings in order to evaluate the recommender with other metrics. \n* **the recommender is to generate recommendation scores that have different scales with the original ratings (e.g., the SAR algorithm)**. In this case, the difference between the generated scores and the original scores (or, ratings) is not valid for measuring accuracy of the model.\n\n#### 2.1.2 How-to with the evaluation utilities\n\nA few notes about the interface of the Rating evaluator class:\n1. The columns of user, item, and rating (prediction) should be present in the ground-truth DataFrame (prediction DataFrame).\n2. There should be no duplicates of (user, item) pairs in the ground-truth and the prediction DataFrames, othewise there may be unexpected behavior in calculating certain metrics.\n3. Default column names for user, item, rating, and prediction are \"UserId\", \"ItemId\", \"Rating\", and \"Prediciton\", respectively."
    },
    {
      "metadata": {
        "trusted": true
      },
      "cell_type": "code",
      "source": "from mmlspark.RankingAdapter import RankingAdapter\nfrom mmlspark.RankingEvaluator import RankingEvaluator",
      "execution_count": null,
      "outputs": []
    },
    {
      "metadata": {
        "trusted": true
      },
      "cell_type": "code",
      "source": "evaluator = RegressionEvaluator(metricName=\"rmse\", labelCol=\"rating\",\n                                predictionCol=\"prediction\")\nrmse = evaluator.evaluate(predictions)",
      "execution_count": null,
      "outputs": []
    },
    {
      "metadata": {},
      "cell_type": "markdown",
      "source": "#### 2.1.3 Root Mean Square Error (RMSE)\n\nRMSE is for evaluating the accuracy of prediction on ratings. RMSE is the most widely used metric to evaluate a recommendation algorithm that predicts missing ratings. The benefit is that RMSE is easy to explain and calculate."
    },
    {
      "metadata": {
        "trusted": true
      },
      "cell_type": "code",
      "source": "print(\"The RMSE is {}\".format(rmse))",
      "execution_count": null,
      "outputs": []
    },
    {
      "metadata": {},
      "cell_type": "markdown",
      "source": "#### 2.1.7 Summary"
    },
    {
      "metadata": {},
      "cell_type": "markdown",
      "source": "|Metric|Range|Selection criteria|Limitation|Reference|\n|------|-------------------------------|---------|----------|---------|\n|RMSE|$> 0$|The smaller the better.|May be biased, and less explainable than MSE|[link](https://en.wikipedia.org/wiki/Root-mean-square_deviation)|"
    },
    {
      "metadata": {},
      "cell_type": "markdown",
      "source": "### 2.2 Ranking metrics"
    },
    {
      "metadata": {},
      "cell_type": "markdown",
      "source": "\"Beyond-accuray evaluation\" was proposed to evaluate how relevant recommendations are for users. In this case, a recommendation system is a treated as a ranking system. Given a relency definition, recommendation system outputs a list of recommended items to each user, which is ordered by relevance. The evaluation part takes ground-truth data, the actual items that users interact with (e.g., liked, purchased, etc.), and the recommendation data, as inputs, to calculate ranking evaluation metrics. \n\n#### 2.2.1 Use cases\n\nRanking metrics are often used when hit and/or ranking of the items are considered:\n* **Hit** - defined by relevancy, a hit usually means whether the recommended \"k\" items hit the \"relevant\" items by the user. For example, a user may have clicked, viewed, or purchased an item for many times, and a hit in the recommended items indicate that the recommender performs well. Metrics like \"precision\", \"recall\", etc. measure the performance of such hitting accuracy.\n* **Ranking** - ranking metrics give more explanations about, for the hitted items, whether they are ranked in a way that is preferred by the users whom the items will be recommended to. Metrics like \"mean average precision\", \"ndcg\", etc., evaluate whether the relevant items are ranked higher than the less-relevant or irrelevant items. \n\n#### 2.2.2 How-to with evaluation utilities\n\nA few notes about the interface of the Rating evaluator class:\n1. The columns of user, item, and rating (prediction) should be present in the ground-truth DataFrame (prediction DataFrame). The column of timestamp is optional, but it is required if certain relevanc function is used. For example, timestamps will be used if the most recent items are defined as the relevant one.\n2. There should be no duplicates of (user, item) pairs in the ground-truth and the prediction DataFrames, othewise there may be unexpected behavior in calculating certain metrics.\n3. Default column names for user, item, rating, and prediction are \"UserId\", \"ItemId\", \"Rating\", and \"Prediciton\", respectively."
    },
    {
      "metadata": {},
      "cell_type": "markdown",
      "source": "#### 2.2.1 Relevancy of recommendation\n\nRelevancy of recommendation can be measured in different ways:\n\n* **By ranking** - In this case, relevant items in the recommendations are defined as the top ranked items, i.e., top k items, which are taken from the list of the recommended items that is ordered by the predicted ratings (or other numerical scores that indicate preference of a user to an item). \n\n* **By timestamp** - Relevant items are defined as the most recently viewed k items, which are obtained from the recommended items ranked by timestamps.\n\n* **By rating** - Relevant items are defined as items with ratings (or other numerical scores that indicate preference of a user to an item) that are above a given threshold. \n\nSimilarly, a ranking metric object can be initialized as below. The input data schema is\n\n* Train dataset.\n\n|Column|Data type|Description|\n|-------------|------------|-------------|\n|`COL_USER`|<int\\>|User ID|\n|`COL_ITEM`|<int\\>|Item ID|\n|`COL_RATING`|<float\\>|Rating or numerical value of user preference.|\n|`COL_TIMESTAMP`|<string\\>|Timestamps.|\n\n* Test dataset.\n\n|Column|Data type|Description|\n|-------------|------------|-------------|\n|`COL_USER`|<int\\>|User ID|\n|`COL_ITEM`|<int\\>|Item ID|\n|`COL_RATING`|<float\\>|Predicted rating or numerical value of user preference.|\n|`COL_TIMESTAM`|<string\\>|Timestamps.|\n\nIn this case, in addition to the input datasets, there are also other arguments used for calculating the ranking metrics:\n\n|Argument|Data type|Description|\n|------------|------------|--------------|\n|`k`|<int\\>|Number of items recommended to user.|\n|`revelancy_method`|<string\\>|Methonds that extract relevant items from the recommendation list|"
    },
    {
      "metadata": {},
      "cell_type": "markdown",
      "source": "For example, the following code initializes a ranking metric object that calculates the metrics."
    },
    {
      "metadata": {
        "trusted": true
      },
      "cell_type": "code",
      "source": "adapter = RankingAdapter(mode='allUsers', k=5, recommender=als)\noutput = adapter.fit(training).transform(test)\n\nprec = RankingEvaluator(k=5, metricName='precisionAt').evaluate(output))\nrecall = RankingEvaluator(k=5, metricName='recallAt').evaluate(output))\nndcg = RankingEvaluator(k=5, metricName='ndcgAt').evaluate(output))\nmap  = RankingEvaluator(k=5, metricName='mapAt').evaluate(output))\nfcp  = RankingEvaluator(k=5, metricName='fcp').evaluate(output))\nmrr  = RankingEvaluator(k=5, metricName='mrr').evaluate(output))",
      "execution_count": null,
      "outputs": []
    },
    {
      "metadata": {},
      "cell_type": "markdown",
      "source": "A few ranking metrics can then be calculated."
    },
    {
      "metadata": {},
      "cell_type": "markdown",
      "source": "#### 2.2.1 Precision\n\nPrecision@k is a metric evaluate how many items, in the recommendation list, are relevant (hit) in the ground-truth data. For each user the precision score is normalized by `k` and then the overall precision scores are averaged by the total number of users. \n\nNote it is apparent that the precision@k metric grows with the number of `k`."
    },
    {
      "metadata": {
        "trusted": true
      },
      "cell_type": "code",
      "source": "print(\"The precision at k is {}\".format(prec))",
      "execution_count": null,
      "outputs": []
    },
    {
      "metadata": {},
      "cell_type": "markdown",
      "source": "#### 2.2.2 Recall\n\nRecall@k is a metric evaluate how many items, in the recommendation list, are relevant (hit) in the ground-truth data. The recall score for each user is normalized by the total number of ground-truth items and then the overall recall scores are averaged by the total number of users. "
    },
    {
      "metadata": {
        "trusted": true
      },
      "cell_type": "code",
      "source": "print(\"The recall at k is {}\".format(recall))",
      "execution_count": null,
      "outputs": []
    },
    {
      "metadata": {},
      "cell_type": "markdown",
      "source": "#### 2.2.3 Normalized Discounted Cumulative Gain (NDCG)\n\nNDCG is a metric that evaluates how well the recommender performs in recommending ranked items to users. Therefore both hit of relevant items and correctness in ranking of these items matter to the NDCG evaluation. The total NDCG score is normalized by the total number of users."
    },
    {
      "metadata": {
        "trusted": true
      },
      "cell_type": "code",
      "source": "print(\"The ndcg at k is {}\".format(ndcg))",
      "execution_count": null,
      "outputs": []
    },
    {
      "metadata": {},
      "cell_type": "markdown",
      "source": "#### 2.2.4 Mean Average Precision (MAP)\n\nMAP is a metric that evaluates the average precision for each user in the datasets. It also penalizes ranking correctness of the recommended items. The overall MAP score is normalized by the total number of users."
    },
    {
      "metadata": {
        "trusted": true
      },
      "cell_type": "code",
      "source": "print(\"The map at k is {}\".format(map))",
      "execution_count": null,
      "outputs": []
    },
    {
      "metadata": {},
      "cell_type": "markdown",
      "source": "#### 2.2.5 FCP\n\n"
    },
    {
      "metadata": {
        "trusted": true
      },
      "cell_type": "code",
      "source": "print(\"The fcp is {}\".format(fcp))",
      "execution_count": null,
      "outputs": []
    },
    {
      "metadata": {},
      "cell_type": "markdown",
      "source": "#### 2.2.6 MRR"
    },
    {
      "metadata": {
        "trusted": true
      },
      "cell_type": "code",
      "source": "print(\"The mrr is {}\".format(mrr))",
      "execution_count": null,
      "outputs": []
    },
    {
      "metadata": {},
      "cell_type": "markdown",
      "source": "#### 2.2.5 Summary"
    },
    {
      "metadata": {},
      "cell_type": "markdown",
      "source": "|Metric|Range|Selection criteria|Limitation|Reference|\n|------|-------------------------------|---------|----------|---------|\n|Precision|$\\geq 0$ and $\\leq 1$|The closer to $1$ the better.|Only for hits in recommendations.|[link](https://spark.apache.org/docs/2.3.0/mllib-evaluation-metrics.html#ranking-systems)|\n|Recall|$\\geq 0$ and $\\leq 1$|The closer to $1$ the better.|Only for hits in the ground truth.|[link](https://en.wikipedia.org/wiki/Precision_and_recall)|\n|NDCG|$\\geq 0$ and $\\leq 1$|The closer to $1$ the better.|Does not penalize for bad/missing items, and does not perform for several equally good items.|[link](https://spark.apache.org/docs/2.3.0/mllib-evaluation-metrics.html#ranking-systems)|\n|MAP|$\\geq 0$ and $\\leq 1$|The closer to $1$ the better.|Depend on variable distributions.|[link](https://spark.apache.org/docs/2.3.0/mllib-evaluation-metrics.html#ranking-systems)|\n|FCP|$\\geq 0$ and $\\leq 1$|The closer to $1$ the better.|Depend on variable distributions.|[link](https://spark.apache.org/docs/2.3.0/mllib-evaluation-metrics.html#ranking-systems)|\n|MRR|$\\geq 0$ and $\\leq 1$|The closer to $1$ the better.|Depend on variable distributions.|[link](https://spark.apache.org/docs/2.3.0/mllib-evaluation-metrics.html#ranking-systems)|"
    },
    {
      "metadata": {},
      "cell_type": "markdown",
      "source": "## References\n\n1. Guy Shani and Asela Gunawardana, \"Evaluating Recommendation Systems\", Recommender Systems Handbook, Springer, 2015.\n2. PySpark MLlib evaluation metrics, url: https://spark.apache.org/docs/2.3.0/mllib-evaluation-metrics.html.\n3. Dimitris Paraschakis et al, \"Comparative Evaluation of Top-N Recommenders in e-Commerce: An Industrial Perspective\", IEEE ICMLA, 2015, Miami, FL, USA.\n4. Yehuda Koren and Robert Bell, \"Advances in Collaborative Filtering\", Recommender Systems Handbook, Springer, 2015."
    }
  ],
  "metadata": {
    "kernelspec": {
      "name": "spark-3-python",
      "display_name": "Python 3 Spark - local",
      "language": "python"
    },
    "language_info": {
      "version": "3.5.5",
      "file_extension": ".py",
      "pygments_lexer": "ipython3",
      "codemirror_mode": {
        "name": "ipython",
        "version": 3
      },
      "nbconvert_exporter": "python",
      "name": "python",
      "mimetype": "text/x-python"
    }
  },
  "nbformat": 4,
  "nbformat_minor": 2
}
