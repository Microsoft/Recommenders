{
 "cells": [
  {
   "cell_type": "code",
   "execution_count": 1,
   "metadata": {
    "scrolled": true
   },
   "outputs": [
    {
     "data": {
      "text/html": [
       "<style>.container { width:100% !important; }</style>"
      ],
      "text/plain": [
       "<IPython.core.display.HTML object>"
      ]
     },
     "metadata": {},
     "output_type": "display_data"
    },
    {
     "name": "stderr",
     "output_type": "stream",
     "text": [
      "INFO:utilities.recommender.sar.sar_pyspark:Collecting user affinity matrix...\n",
      "INFO:utilities.recommender.sar.sar_pyspark:Calculating item cooccurrence...\n",
      "INFO:utilities.recommender.sar.sar_pyspark:Calculating item similarity...\n",
      "INFO:utilities.recommender.sar.sar_pyspark:Running query -- \n",
      "            SELECT i1, i2, value / (M1.margin + M2.margin - value) AS value\n",
      "            FROM item_cooccurrence A \n",
      "                INNER JOIN item_marginal M1 ON A.i1 = M1.i \n",
      "                INNER JOIN item_marginal M2 ON A.i2 = M2.i\n",
      "            \n",
      "INFO:utilities.recommender.sar.sar_pyspark:Calculating recommendation scores...\n"
     ]
    },
    {
     "name": "stdout",
     "output_type": "stream",
     "text": [
      "+------+------+-----+\n",
      "|userID|itemID|score|\n",
      "+------+------+-----+\n",
      "|    uc|    ic|  2.5|\n",
      "|    uc|    ib|  2.5|\n",
      "|    ua|    ic| 12.5|\n",
      "|    ub|    ie|  2.0|\n",
      "|    ua|    if|  2.5|\n",
      "|    ua|    ib| 12.5|\n",
      "|    ub|    id|  2.0|\n",
      "|    uc|    ia|  6.5|\n",
      "|    ua|    ia| 10.0|\n",
      "|    uc|    if|  5.5|\n",
      "+------+------+-----+\n",
      "\n",
      "+------+------+-----+\n",
      "|userID|itemID|score|\n",
      "+------+------+-----+\n",
      "|    ua|    ic| 12.5|\n",
      "|    ua|    ib| 12.5|\n",
      "|    uc|    ic|  2.5|\n",
      "|    uc|    ib|  2.5|\n",
      "|    ub|    id|  2.0|\n",
      "+------+------+-----+\n",
      "\n"
     ]
    }
   ],
   "source": [
    "# set the environment path to find Recommenders\n",
    "import sys\n",
    "sys.path.append(\"..\")\n",
    "\n",
    "from utilities.recommender.sar import sar_pyspark\n",
    "from pyspark.sql import SparkSession\n",
    "from utilities.common.file_utils import maybe_download\n",
    "import pyspark.sql.functions as F\n",
    "import logging\n",
    "import numpy as np\n",
    "import pandas as pd\n",
    "\n",
    "# needs JDK 1.8 on Windows with pySpark 2.3.1\n",
    "\n",
    "from IPython.core.display import display, HTML\n",
    "display(HTML(\"<style>.container { width:100% !important; }</style>\"))\n",
    "\n",
    "spark = SparkSession \\\n",
    "    .builder \\\n",
    "    .appName(\"Sample1\") \\\n",
    "    .master(\"local[*]\") \\\n",
    "    .getOrCreate()\n",
    "    \n",
    "header = {\n",
    "    'col_user': \"customerID\",\n",
    "    'col_item': \"itemID\",\n",
    "    'col_rating': \"rating\",\n",
    "    'col_timestamp': \"Timestamp\"\n",
    "}\n",
    "\n",
    "d_alnum_train = {\n",
    "'customerID': ['ua','ua','ua','ub','ub','uc','uc'],\n",
    "'itemID':     ['ia','ib','ic','id','ie','if','ia'],\n",
    "'rating':     [5,5,5,1,1,3,5]\n",
    "}\n",
    "pdf_train = pd.DataFrame(d_alnum_train)\n",
    "d_alnum_test = {\n",
    "'customerID': ['ua','ua','ub','ub','uc','uc'],\n",
    "'itemID':     ['id','ie','ia','ie','if','ia'],\n",
    "'rating':     [1,1,5,5,5,5]\n",
    "}\n",
    "pdf_test = pd.DataFrame(d_alnum_test)\n",
    "\n",
    "import pyspark.sql.functions as F\n",
    "df = spark.createDataFrame(pdf_train).withColumn(\"type\", F.lit(1))\n",
    "df_test = spark.createDataFrame(pdf_test).withColumn(\"type\", F.lit(0))\n",
    "\n",
    "model = sar_pyspark.SARpySparkReference(spark, remove_seen=True, similarity_type='jaccard', \n",
    "                            time_decay_coefficient=30, timedecay_formula=True, \n",
    "                            **header)\n",
    "\n",
    "model._fit(df)\n",
    "model.scores.show()\n",
    "\n",
    "top_k_items = model._recommend_k_items(df_test, 2)\n",
    "top_k_items.show()"
   ]
  },
  {
   "cell_type": "code",
   "execution_count": 2,
   "metadata": {},
   "outputs": [
    {
     "name": "stdout",
     "output_type": "stream",
     "text": [
      "+------+------+-----+\n",
      "|userID|itemID|score|\n",
      "+------+------+-----+\n",
      "|    ua|    ic| 12.5|\n",
      "|    ua|    if|  2.5|\n",
      "|    ua|    ib| 12.5|\n",
      "|    ua|    ia| 10.0|\n",
      "|    uc|    ic|  2.5|\n",
      "|    uc|    ib|  2.5|\n",
      "|    uc|    ia|  6.5|\n",
      "|    uc|    if|  5.5|\n",
      "|    ub|    ie|  2.0|\n",
      "|    ub|    id|  2.0|\n",
      "+------+------+-----+\n",
      "\n"
     ]
    }
   ],
   "source": [
    "# df_test.show()\n",
    "spark.sql(\"SELECT * FROM top_scores_full\").show()"
   ]
  },
  {
   "cell_type": "code",
   "execution_count": 4,
   "metadata": {},
   "outputs": [
    {
     "name": "stdout",
     "output_type": "stream",
     "text": [
      "+------+------+-----+--------------+\n",
      "|userID|itemID|score|existingItemID|\n",
      "+------+------+-----+--------------+\n",
      "|    uc|    ic|  2.5|          null|\n",
      "|    uc|    ib|  2.5|          null|\n",
      "|    ua|    ic| 12.5|          null|\n",
      "|    ub|    ie|  2.0|            ie|\n",
      "|    ua|    if|  2.5|          null|\n",
      "|    ua|    ib| 12.5|          null|\n",
      "|    ub|    id|  2.0|          null|\n",
      "|    uc|    ia|  6.5|            ia|\n",
      "|    ua|    ia| 10.0|          null|\n",
      "|    uc|    if|  5.5|            if|\n",
      "+------+------+-----+--------------+\n",
      "\n"
     ]
    }
   ],
   "source": [
    "# df_test.show()\n",
    "spark.sql(\"\"\" \n",
    "                SELECT ts.*, df_test.itemID existingItemID\n",
    "                FROM top_scores_full ts LEFT OUTER JOIN df_test\n",
    "                    ON ts.userID = df_test.customerID AND ts.itemID = df_test.itemID\n",
    "\"\"\").show()"
   ]
  }
 ],
 "metadata": {
  "kernelspec": {
   "display_name": "Python 3",
   "language": "python",
   "name": "python3"
  },
  "language_info": {
   "codemirror_mode": {
    "name": "ipython",
    "version": 3
   },
   "file_extension": ".py",
   "mimetype": "text/x-python",
   "name": "python",
   "nbconvert_exporter": "python",
   "pygments_lexer": "ipython3",
   "version": "3.6.0"
  }
 },
 "nbformat": 4,
 "nbformat_minor": 2
}
