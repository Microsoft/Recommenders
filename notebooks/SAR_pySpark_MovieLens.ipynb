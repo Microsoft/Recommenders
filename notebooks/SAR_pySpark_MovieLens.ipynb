{
 "cells": [
  {
   "cell_type": "code",
   "execution_count": 1,
   "metadata": {},
   "outputs": [
    {
     "data": {
      "text/html": [
       "<style>.container { width:100% !important; }</style>"
      ],
      "text/plain": [
       "<IPython.core.display.HTML object>"
      ]
     },
     "metadata": {},
     "output_type": "display_data"
    },
    {
     "data": {
      "text/html": [
       "\n",
       "            <div>\n",
       "                <p><b>SparkSession - in-memory</b></p>\n",
       "                \n",
       "        <div>\n",
       "            <p><b>SparkContext</b></p>\n",
       "\n",
       "            <p><a href=\"http://MARSUR.northamerica.corp.microsoft.com:4040\">Spark UI</a></p>\n",
       "\n",
       "            <dl>\n",
       "              <dt>Version</dt>\n",
       "                <dd><code>v2.3.2</code></dd>\n",
       "              <dt>Master</dt>\n",
       "                <dd><code>local[*]</code></dd>\n",
       "              <dt>AppName</dt>\n",
       "                <dd><code>MovieRatingsSARpySpark</code></dd>\n",
       "            </dl>\n",
       "        </div>\n",
       "        \n",
       "            </div>\n",
       "        "
      ],
      "text/plain": [
       "<pyspark.sql.session.SparkSession at 0x235c1b96c88>"
      ]
     },
     "execution_count": 1,
     "metadata": {},
     "output_type": "execute_result"
    }
   ],
   "source": [
    "# set the environment path to find Recommenders\n",
    "import sys\n",
    "sys.path.append(\"..\")\n",
    "\n",
    "from utilities.recommender.sar import sar_pyspark\n",
    "from pyspark.sql import SparkSession\n",
    "from utilities.common.file_utils import maybe_download\n",
    "import pyspark.sql.functions as F\n",
    "import logging\n",
    "import numpy as np\n",
    "\n",
    "# needs JDK 1.8 on Windows with pySpark 2.3.1\n",
    "\n",
    "from IPython.core.display import display, HTML\n",
    "display(HTML(\"<style>.container { width:100% !important; }</style>\"))\n",
    "\n",
    "spark = SparkSession \\\n",
    "    .builder \\\n",
    "    .appName(\"MovieRatingsSARpySpark\") \\\n",
    "    .master(\"local[*]\") \\\n",
    "    .config(\"spark.sql.shuffle.partitions\", \"4\") \\\n",
    "    .config(\"spark.driver.memory\", \"6g\") \\\n",
    "    .config(\"spark.executor.memory\", \"6g\") \\\n",
    "    .config(\"spark.memory.fraction\", \"0.9\")\\\n",
    "    .config(\"spark.memory.stageFraction\", \"0.3\")\\\n",
    "    .config(\"spark.executor.instances\", 1) \\\n",
    "    .config(\"spark.executor.cores\", \"4\")\\\n",
    "    .getOrCreate()\n",
    "    \n",
    "spark"
   ]
  },
  {
   "cell_type": "code",
   "execution_count": 2,
   "metadata": {},
   "outputs": [
    {
     "name": "stdout",
     "output_type": "stream",
     "text": [
      "found movielens1m.csv at movielens1m.csv\n",
      "Total rows: 227472\n"
     ]
    },
    {
     "data": {
      "text/html": [
       "<div>\n",
       "<style scoped>\n",
       "    .dataframe tbody tr th:only-of-type {\n",
       "        vertical-align: middle;\n",
       "    }\n",
       "\n",
       "    .dataframe tbody tr th {\n",
       "        vertical-align: top;\n",
       "    }\n",
       "\n",
       "    .dataframe thead th {\n",
       "        text-align: right;\n",
       "    }\n",
       "</style>\n",
       "<table border=\"1\" class=\"dataframe\">\n",
       "  <thead>\n",
       "    <tr style=\"text-align: right;\">\n",
       "      <th></th>\n",
       "      <th>UserId</th>\n",
       "      <th>MovieId</th>\n",
       "      <th>Rating</th>\n",
       "      <th>Timestamp</th>\n",
       "    </tr>\n",
       "  </thead>\n",
       "  <tbody>\n",
       "    <tr>\n",
       "      <th>0</th>\n",
       "      <td>1</td>\n",
       "      <td>68646</td>\n",
       "      <td>10</td>\n",
       "      <td>1381620027</td>\n",
       "    </tr>\n",
       "    <tr>\n",
       "      <th>1</th>\n",
       "      <td>1</td>\n",
       "      <td>113277</td>\n",
       "      <td>10</td>\n",
       "      <td>1379466669</td>\n",
       "    </tr>\n",
       "    <tr>\n",
       "      <th>2</th>\n",
       "      <td>2</td>\n",
       "      <td>454876</td>\n",
       "      <td>8</td>\n",
       "      <td>1394818630</td>\n",
       "    </tr>\n",
       "    <tr>\n",
       "      <th>3</th>\n",
       "      <td>2</td>\n",
       "      <td>790636</td>\n",
       "      <td>7</td>\n",
       "      <td>1389963947</td>\n",
       "    </tr>\n",
       "    <tr>\n",
       "      <th>4</th>\n",
       "      <td>2</td>\n",
       "      <td>816711</td>\n",
       "      <td>8</td>\n",
       "      <td>1379963769</td>\n",
       "    </tr>\n",
       "  </tbody>\n",
       "</table>\n",
       "</div>"
      ],
      "text/plain": [
       "  UserId MovieId Rating   Timestamp\n",
       "0      1   68646     10  1381620027\n",
       "1      1  113277     10  1379466669\n",
       "2      2  454876      8  1394818630\n",
       "3      2  790636      7  1389963947\n",
       "4      2  816711      8  1379963769"
      ]
     },
     "execution_count": 2,
     "metadata": {},
     "output_type": "execute_result"
    }
   ],
   "source": [
    "data_location = 'movielens1m.csv'\n",
    "\n",
    "maybe_download('http://aka.ms', data_location, data_location, verbose=True)\n",
    "\n",
    "header = {\n",
    "    'col_user': \"UserId\",\n",
    "    'col_item': \"MovieId\",\n",
    "    'col_rating': \"Rating\",\n",
    "    'col_timestamp': \"Timestamp\"\n",
    "}\n",
    "\n",
    "# TODO: do we really need a logger for a notebook?\n",
    "log = logging.getLogger(\"notebook\")\n",
    "\n",
    "# TODO: sar_pyspark.SARpySparkReference looks strange\n",
    "model = sar_pyspark.SARpySparkReference(spark, remove_seen=True, similarity_type='jaccard', \n",
    "                            time_decay_coefficient=30, timedecay_formula=True, \n",
    "                            **header)\n",
    "\n",
    "data = spark.read.csv(data_location, header=True)\n",
    "\n",
    "print(\"Total rows: %d\" % data.count())\n",
    "\n",
    "data.limit(5).toPandas()"
   ]
  },
  {
   "cell_type": "code",
   "execution_count": 3,
   "metadata": {},
   "outputs": [
    {
     "name": "stdout",
     "output_type": "stream",
     "text": [
      "Train:    181769\n",
      "Test:      45703\n",
      "Test:      45703 (w/o cold users)\n"
     ]
    }
   ],
   "source": [
    "# split into two spark dataframes for training and testing\n",
    "train, test = data.randomSplit([0.8, 0.2], seed=12)\n",
    "\n",
    "print(\"Train: %9d\" % train.count())\n",
    "print(\"Test:  %9d\" % test.count())\n",
    "# left outer join\n",
    "\n",
    "test.createOrReplaceTempView(\"df_train\")\n",
    "test.createOrReplaceTempView(\"df_test\")\n",
    "\n",
    "query = \"\"\"\n",
    "SELECT df_test.*\n",
    "FROM\n",
    "    df_test JOIN\n",
    "    (SELECT DISTINCT {col_user} FROM df_train) customers\n",
    "    ON df_test.{col_user} = customers.{col_user}\n",
    "CLUSTER BY {col_user}\n",
    "\"\"\".format(col_user = header['col_user'])\n",
    "\n",
    "test = spark.sql(query)\n",
    "test.write.mode(\"overwrite\").saveAsTable(\"df_test_input\")\n",
    "print(\"Test:  %9d (w/o cold users)\" % test.count())"
   ]
  },
  {
   "cell_type": "code",
   "execution_count": null,
   "metadata": {},
   "outputs": [
    {
     "name": "stderr",
     "output_type": "stream",
     "text": [
      "INFO:utilities.recommender.sar.sar_pyspark:Collecting user affinity matrix...\n",
      "INFO:utilities.recommender.sar.sar_pyspark:Calculating item cooccurrence...\n",
      "INFO:utilities.recommender.sar.sar_pyspark:Calculating item similarity...\n",
      "INFO:utilities.recommender.sar.sar_pyspark:Running query -- \n",
      "            SELECT i1, i2, value / (M1.margin + M2.margin - value) AS value\n",
      "            FROM item_cooccurrence A \n",
      "                INNER JOIN item_marginal M1 ON A.i1 = M1.i \n",
      "                INNER JOIN item_marginal M2 ON A.i2 = M2.i\n",
      "            \n",
      "INFO:utilities.recommender.sar.sar_pyspark:Calculating recommendation scores...\n"
     ]
    },
    {
     "name": "stdout",
     "output_type": "stream",
     "text": [
      "Similarity size: 2479043\n"
     ]
    }
   ],
   "source": [
    "%%time\n",
    "\n",
    "model._fit(train)\n",
    "\n",
    "# print(model.scores.count())\n",
    "\n",
    "# uncomment if you want to predict just the SAR scores for user-item pairs which are in the test\n",
    "# set only\n",
    "# predictions = model.predict(test_indexed)\n",
    "top_k = model._recommend_k_items(test, top_k=10)\n",
    "\n",
    "top_k.count()"
   ]
  },
  {
   "cell_type": "code",
   "execution_count": null,
   "metadata": {},
   "outputs": [],
   "source": []
  },
  {
   "cell_type": "code",
   "execution_count": null,
   "metadata": {},
   "outputs": [],
   "source": []
  }
 ],
 "metadata": {
  "kernelspec": {
   "display_name": "Python 3",
   "language": "python",
   "name": "python3"
  },
  "language_info": {
   "codemirror_mode": {
    "name": "ipython",
    "version": 3
   },
   "file_extension": ".py",
   "mimetype": "text/x-python",
   "name": "python",
   "nbconvert_exporter": "python",
   "pygments_lexer": "ipython3",
   "version": "3.6.0"
  }
 },
 "nbformat": 4,
 "nbformat_minor": 1
}
